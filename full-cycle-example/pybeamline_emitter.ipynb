{
  "nbformat": 4,
  "nbformat_minor": 0,
  "metadata": {
    "colab": {
      "provenance": []
    },
    "kernelspec": {
      "name": "python3",
      "display_name": "Python 3"
    },
    "language_info": {
      "name": "python"
    }
  },
  "cells": [
    {
      "cell_type": "markdown",
      "source": [
        "Install the Paho MQTT library."
      ],
      "metadata": {
        "id": "NHQMFAyfCqPP"
      }
    },
    {
      "cell_type": "code",
      "execution_count": 1,
      "metadata": {
        "colab": {
          "base_uri": "https://localhost:8080/"
        },
        "id": "dqajliFUChaO",
        "outputId": "db72be28-fabd-496e-8289-9d4b0f9c50d0"
      },
      "outputs": [
        {
          "output_type": "stream",
          "name": "stdout",
          "text": [
            "Collecting paho-mqtt\n",
            "  Downloading paho_mqtt-2.1.0-py3-none-any.whl.metadata (23 kB)\n",
            "Downloading paho_mqtt-2.1.0-py3-none-any.whl (67 kB)\n",
            "\u001b[?25l   \u001b[90m━━━━━━━━━━━━━━━━━━━━━━━━━━━━━━━━━━━━━━━━\u001b[0m \u001b[32m0.0/67.2 kB\u001b[0m \u001b[31m?\u001b[0m eta \u001b[36m-:--:--\u001b[0m\r\u001b[2K   \u001b[90m━━━━━━━━━━━━━━━━━━━━━━━━━━━━━━━━━━━━━━━━\u001b[0m \u001b[32m67.2/67.2 kB\u001b[0m \u001b[31m3.8 MB/s\u001b[0m eta \u001b[36m0:00:00\u001b[0m\n",
            "\u001b[?25hInstalling collected packages: paho-mqtt\n",
            "Successfully installed paho-mqtt-2.1.0\n"
          ]
        }
      ],
      "source": [
        "!pip install paho-mqtt"
      ]
    },
    {
      "cell_type": "markdown",
      "source": [
        "Define the emitter of a process that contains a sequence, a parallel split/join and an XOR split/join."
      ],
      "metadata": {
        "id": "m2N1b8UGCufq"
      }
    },
    {
      "cell_type": "code",
      "source": [
        "import paho.mqtt.client as mqtt\n",
        "import time\n",
        "\n",
        "broker_host = \"broker.emqx.io\"\n",
        "base_name = \"pybeamline/source\"\n",
        "process_name = \"test\"\n",
        "\n",
        "traces = []\n",
        "traces.append([\"A\", \"B\", \"C\"])\n",
        "traces.append([\"A\", \"C\", \"B\"])\n",
        "traces.append([\"A\", \"B\", \"C\", \"F\", \"D\"])\n",
        "traces.append([\"A\", \"C\", \"B\", \"F\", \"E\"])\n",
        "traces.append([\"A\", \"B\", \"C\", \"F\", \"E\", \"G\", \"I\"])\n",
        "traces.append([\"A\", \"C\", \"B\", \"F\", \"D\", \"H\", \"I\"])\n",
        "\n",
        "c = mqtt.Client()\n",
        "c.connect(broker_host, 1883, 60)\n",
        "\n",
        "trace_id = 0\n",
        "while True:\n",
        "    for trace in traces:\n",
        "        trace_id += 1\n",
        "        for activity in trace:\n",
        "            c.publish(base_name + \"/\" + process_name + \"/C\" + str(trace_id) + \"/\" + activity, \"{}\")\n",
        "            time.sleep(0.5)\n",
        "\n",
        "input()"
      ],
      "metadata": {
        "id": "lxwuHSmJComh"
      },
      "execution_count": null,
      "outputs": []
    }
  ]
}