{
  "nbformat": 4,
  "nbformat_minor": 0,
  "metadata": {
    "colab": {
      "provenance": []
    },
    "kernelspec": {
      "name": "python3",
      "display_name": "Python 3"
    },
    "language_info": {
      "name": "python"
    }
  },
  "cells": [
    {
      "cell_type": "markdown",
      "source": [
        "Install the pyBeamline library and all its dependencies."
      ],
      "metadata": {
        "id": "q85yyDHTDLHa"
      }
    },
    {
      "cell_type": "code",
      "execution_count": null,
      "metadata": {
        "id": "muTIi1W8DIpU"
      },
      "outputs": [],
      "source": [
        "!pip install pybeamline"
      ]
    },
    {
      "cell_type": "markdown",
      "source": [
        "Ignore `pm4py` warnings."
      ],
      "metadata": {
        "id": "bYx8v61QDRYw"
      }
    },
    {
      "cell_type": "code",
      "source": [
        "import warnings\n",
        "warnings.filterwarnings(\"ignore\")"
      ],
      "metadata": {
        "id": "dQZl9e7qDWeA"
      },
      "execution_count": 2,
      "outputs": []
    },
    {
      "cell_type": "markdown",
      "source": [
        "Define the MQTT endpoints for the source of the data and where the results of the mining should be published."
      ],
      "metadata": {
        "id": "SNVfJr9TDboo"
      }
    },
    {
      "cell_type": "code",
      "source": [
        "mqtt_source = {\n",
        "    \"broker\": 'broker.emqx.io',\n",
        "    \"port\": 1883,\n",
        "    \"topic\": 'pybeamline/source'\n",
        "}\n",
        "\n",
        "mqtt_target = {\n",
        "    \"broker\": 'broker.emqx.io',\n",
        "    \"port\": 1883,\n",
        "    \"topic\": 'pybeamline/output'\n",
        "}"
      ],
      "metadata": {
        "id": "bSXNKpd5DgF6"
      },
      "execution_count": 3,
      "outputs": []
    },
    {
      "cell_type": "markdown",
      "source": [
        "Define a simple `pyBeamline` pipeline that listens for events on the `mqtt_source`, performs the Heuristics Miner with Lossy Counting with Budget, converts the Heuristics Net into a Petri net (using the `pm4py` built-in conversion) and dumps the Graphviz DOT output into the `mqtt_target`."
      ],
      "metadata": {
        "id": "jOcMYNzaDnbZ"
      }
    },
    {
      "cell_type": "code",
      "source": [
        "from pybeamline.sources import mqttxes_source\n",
        "from pybeamline.algorithms.discovery import heuristics_miner_lossy_counting_budget\n",
        "from pm4py.objects.conversion.heuristics_net import converter as conversion_factory\n",
        "from pm4py.visualization.petri_net import visualizer as petri_net_visualizer\n",
        "import paho.mqtt.client as mqtt\n",
        "\n",
        "\n",
        "client = mqtt.Client()\n",
        "client.connect(mqtt_target[\"broker\"], mqtt_target[\"port\"], 60)\n",
        "client.loop_start()\n",
        "\n",
        "\n",
        "def conversion_from_HN_to_Graphviz(heuristics_net):\n",
        "  petri_net, initial_marking, final_marking = conversion_factory.apply(heuristics_net)\n",
        "  gviz = petri_net_visualizer.apply(petri_net, initial_marking, final_marking)\n",
        "  return str(gviz)\n",
        "\n",
        "\n",
        "mqttxes_source(mqtt_source[\"broker\"], mqtt_source[\"port\"], mqtt_source[\"topic\"]).pipe(\n",
        "    heuristics_miner_lossy_counting_budget(model_update_frequency=4, budget=1000, dependency_threshold=0.75)\n",
        ").subscribe(lambda x: client.publish(mqtt_target[\"topic\"], conversion_from_HN_to_Graphviz(x)))\n",
        "\n",
        "input()"
      ],
      "metadata": {
        "id": "UItce2W8D-Dv"
      },
      "execution_count": null,
      "outputs": []
    }
  ]
}